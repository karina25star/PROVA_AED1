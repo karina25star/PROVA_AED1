{
 "cells": [
  {
   "cell_type": "code",
   "execution_count": 37,
   "id": "ae641aa9-fe69-4b40-a137-a813d24535b8",
   "metadata": {},
   "outputs": [
    {
     "name": "stdin",
     "output_type": "stream",
     "text": [
      "Digite o primeiro número:  3\n",
      "Digite o segundo número:  6\n",
      "Digite o terceiro número:  9\n"
     ]
    }
   ],
   "source": [
    "# Recebendo os três números inteiros positivos\n",
    "a = int(input(\"Digite o primeiro número: \"))\n",
    "b = int(input(\"Digite o segundo número: \"))\n",
    "c = int(input(\"Digite o terceiro número: \"))"
   ]
  },
  {
   "cell_type": "code",
   "execution_count": 39,
   "id": "ba54d125-4815-4055-bf25-a43dee0a33df",
   "metadata": {},
   "outputs": [],
   "source": [
    "#Colocar os números em uma lista\n",
    "números = [a, b, c]"
   ]
  },
  {
   "cell_type": "code",
   "execution_count": 41,
   "id": "60ace2f8-9221-4aa9-990a-9fd6f549dce5",
   "metadata": {},
   "outputs": [],
   "source": [
    "#Números em ordem crescente \n",
    "números.sort()"
   ]
  },
  {
   "cell_type": "code",
   "execution_count": 51,
   "id": "c8b4ab5f-0ccf-4efd-b138-23ae1058eeb1",
   "metadata": {},
   "outputs": [],
   "source": [
    "#Pegar os dois números maiores da lista\n",
    "maiores = números [1:]"
   ]
  },
  {
   "cell_type": "code",
   "execution_count": 53,
   "id": "30a27b1f-56d8-407a-8be0-b18265c87f31",
   "metadata": {},
   "outputs": [
    {
     "name": "stdout",
     "output_type": "stream",
     "text": [
      "A média dos dois maiores valores é: 7.5\n"
     ]
    }
   ],
   "source": [
    "#Calcular a média dos dois números maiores\n",
    "media = sum(maiores) / 2\n",
    "print(\"A média dos dois maiores valores é:\", media)"
   ]
  },
  {
   "cell_type": "code",
   "execution_count": null,
   "id": "9a0d090b-0180-42b5-87dd-8c1026d9fd43",
   "metadata": {},
   "outputs": [],
   "source": []
  }
 ],
 "metadata": {
  "kernelspec": {
   "display_name": "Python [conda env:anaconda3]",
   "language": "python",
   "name": "conda-env-anaconda3-py"
  },
  "language_info": {
   "codemirror_mode": {
    "name": "ipython",
    "version": 3
   },
   "file_extension": ".py",
   "mimetype": "text/x-python",
   "name": "python",
   "nbconvert_exporter": "python",
   "pygments_lexer": "ipython3",
   "version": "3.13.5"
  }
 },
 "nbformat": 4,
 "nbformat_minor": 5
}
